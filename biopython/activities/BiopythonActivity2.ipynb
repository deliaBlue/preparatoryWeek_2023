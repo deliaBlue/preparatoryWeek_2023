{
 "cells": [
  {
   "cell_type": "markdown",
   "metadata": {},
   "source": [
    "# Introduction to Biopython 2"
   ]
  },
  {
   "cell_type": "markdown",
   "metadata": {},
   "source": [
    "### Key concepts\n",
    "\n",
    " - **SeqRecord object:** The `SeqRecord` object used in _Biopython_ to hold a sequence, as a `Seq` object, with identifiers `id` and `name`, `description` and optionally `annotation` and other sub-features. \n",
    "  <details>\n",
    "    <summary>\n",
    "        <span style=\"color: purple\">Click here to display more information</span>\n",
    "    </summary>\n",
    "    <p>The <code>SeqRecord</code> object used in <em>Biopython</em> to hold a sequence, as a <a href=\"#Seq\"><code>Seq</code></a> object, with identifiers <code>id</code> and <code>name</code>, description and optionally annotation and sub-features. The following table contains the <code>SeqRecord</code> attributes and the information they hold.</p>\n",
    "\n",
    "    <blockquote>\n",
    "            <table>\n",
    "                <tr>\n",
    "                   <td>.seq</td>\n",
    "                   <td>Seq object containing a sequence</td>\n",
    "                </tr>\n",
    "                <tr>\n",
    "                   <td>.id</td>\n",
    "                   <td>Primary ID used to identify the sequence in a string format</td>\n",
    "                </tr>\n",
    "                <tr>\n",
    "                   <td>.name</td>\n",
    "                   <td> In some cases this will be the same as the accession number, but it could also be a clone name in a string a string format</td>\n",
    "                </tr>\n",
    "                <tr>\n",
    "                   <td>.description</td>\n",
    "                   <td>Brief description or expressive name for the sequence</td>\n",
    "                </tr>\n",
    "                <tr>\n",
    "                   <td>.letter_annotations</td>\n",
    "                   <td>\n",
    "                   Dictionary of additional information about the letters in the sequence.\n",
    "                   The keys are the name of the information (e.g. \"phread_quality\") and the value (as a list, tuple, string,...) has the same length as the\n",
    "                   sequence itself (e.g. [40, 40, 38, 30, ...]).\n",
    "                   </td>\n",
    "                </tr>\n",
    "                <tr>\n",
    "                   <td>.annotations</td>\n",
    "                   <td>\n",
    "                    A dictionary of additional information about the sequence. The keys\n",
    "                    are the name of the information, and the information is contained in\n",
    "                    the value.\n",
    "                   </td>\n",
    "                </tr>\n",
    "                 <tr>\n",
    "                   <td>.features</td>\n",
    "                   <td>\n",
    "                   A list of SeqFeature objects with more structured information about the\n",
    "                   features on a sequence (e.g. position of genes on a genome, or domains\n",
    "                   on a protein sequence). See more on section 4.3 of the [documentation][docu].\n",
    "                   </td>\n",
    "                </tr>\n",
    "                <tr>\n",
    "                   <td>.dbxrefs</td>\n",
    "                   <td>A list of database cross-references as strings (e.g. ['Project:58037']).</td>\n",
    "                </tr>\n",
    "             </table></blockquote>\n",
    "    \n",
    "    We will mainly be using the first 4 attributes. For example, the `example1.fa` file contains only two lines:\n",
    "                \n",
    "    >example1 this is a simple example<br>\n",
    "    GATTACA-A\n",
    "    \n",
    "</details>\n",
    "\n",
    "\n",
    "\n",
    " - **Seq object:** The Seq attribute in the `SeqRecord` object is the minimum information needed to create an instance of this class. It consist on a sequence in the form of a `Python` `string` which offers many of the same methods along with additional ones. \n",
    "<details>\n",
    "    <summary><span style=\"color: purple\">Click here to display more information</span></summary>\n",
    "    <p>The <code>Seq</code> attribute is the minimum information needed to create an instance of a <code>SeqRecord</code>. Like <code>SeqRecord</code>, the <code>Seq</code> object has its own set of attributes and its own module <code>Bio.Seq</code> which can be imported using <code>from Bio.Seq import Seq</code>.</p>\n",
    "    <p>You need to keep in mind that like <code>Python</code> strings, <code>Seq</code> objects do not support item assignments and in order to modify them, we need to transform them into a <code>MutableSeq</code> object. To do this we need to import it using <code>from Bio.Seq import MutableSeq</code> and transform the <code>Seq</code> sequence through reassignment (e.g. <code>sequence = MutableSeq(sequence)</code>).</p>\n",
    "\n",
    "</details>\n",
    "\n",
    "\n",
    " \n",
    "Both of these objects are available in  their own module and can be imported using `from Bio.SeqRecord import SeqRecord` and `from Bio.Seq import Seq`.\n"
   ]
  },
  {
   "cell_type": "markdown",
   "metadata": {},
   "source": [
    "----\n",
    "\n",
    "### 2. Importing local files\n",
    "\n",
    "\n",
    "If we wanted to manually import a sequence fasta file using `Python`, we would have to manually define the `ID/name` and read the rest of the file and store it as a sequence. The resulting function would look something like the following. "
   ]
  },
  {
   "cell_type": "code",
   "execution_count": 1,
   "metadata": {},
   "outputs": [
    {
     "name": "stdout",
     "output_type": "stream",
     "text": [
      "example0\n",
      "this is a simple example\n",
      "GATTACA-A\n"
     ]
    }
   ],
   "source": [
    "## Read fasta file python function:\n",
    "def read_fasta(fastafile):\n",
    "    \n",
    "    with open(fastafile) as f_inp:\n",
    "        lines = f_inp.readlines()\n",
    "    \n",
    "    seqs = [Seq(\"\")]\n",
    "    seqs[0].id = lines[0][1:].split()[0].strip() # 1st word after the \">\"\n",
    "    seqs[0].description = \" \".join(lines[0][1:].split()[1:]) # rest of the line after id \">\"\n",
    "    seq = [] \n",
    "    i = 0\n",
    "    for line in lines[1:]:\n",
    "        if line.startswith('>'): #new sequence\n",
    "            seqs[i].seq = ''.join(seq)\n",
    "            seqs.append(Seq(\"\"))\n",
    "            i += 1\n",
    "            seq = []\n",
    "            seqs[i].id = lines[0][1:].split()[0].strip()\n",
    "            seqs[i].description = \" \".join(lines[0][1:].split()[1:])\n",
    "        else:\n",
    "            seq.append(line.strip()) # keep inputing sequence\n",
    "    seqs[0].seq = ''.join(seq)\n",
    "    return seqs\n",
    "\n",
    "# Example\n",
    "from Bio.Seq import Seq\n",
    "seq = read_fasta('example1.fa')[0]\n",
    "print(seq.id)\n",
    "print(seq.description)\n",
    "print(seq.seq)"
   ]
  },
  {
   "cell_type": "markdown",
   "metadata": {},
   "source": [
    "Then we would have to construct a specific function for each of the file formats. The `Bio.SeqIO` module allows a straightforward and uniform way for reading and writing sequence files in different formats, processing them as `SeqRecord` objects (view _Introduction to key concepts_ section).  The main function in `SeqIO` is **`Bio.SeqIO.parse()`**:\n",
    "- **Input**: a **file's path** and **its format's name**.\n",
    "- **Output**: an object or an iterator with objects of the `SeqRecord` class. "
   ]
  },
  {
   "cell_type": "code",
   "execution_count": 2,
   "metadata": {},
   "outputs": [
    {
     "name": "stdout",
     "output_type": "stream",
     "text": [
      "ID: example0\n",
      "Name: example0\n",
      "Description: example0 this is a simple example\n",
      "Number of features: 0\n",
      "Seq('GATTACA-A')\n"
     ]
    },
    {
     "data": {
      "text/plain": [
       "[None]"
      ]
     },
     "execution_count": 2,
     "metadata": {},
     "output_type": "execute_result"
    }
   ],
   "source": [
    "from Bio import SeqIO\n",
    "\n",
    "record = SeqIO.parse(\"example1.fa\", \"fasta\") # get record as SeqRecord\n",
    "\n",
    "[print(att) for att in list(record)] # print all information"
   ]
  },
  {
   "cell_type": "markdown",
   "metadata": {},
   "source": [
    "1. Files containing **a single record** can also be read using the function **`SeqIO.read()`** which takes same arguments as `SeqIO.parse()`. If there is more than one record in the file, an exception is raised."
   ]
  },
  {
   "cell_type": "code",
   "execution_count": 3,
   "metadata": {},
   "outputs": [
    {
     "name": "stdout",
     "output_type": "stream",
     "text": [
      "ID: example0\n",
      "Name: example0\n",
      "Description: example0 this is a simple example\n",
      "Number of features: 0\n",
      "Seq('GATTACA-A')\n"
     ]
    }
   ],
   "source": [
    "record = SeqIO.read(\"example1.fa\", \"fasta\")\n",
    "print(record)"
   ]
  },
  {
   "cell_type": "markdown",
   "metadata": {},
   "source": [
    " 2. If the file contains **several sequences**, we can store them in a list the following way."
   ]
  },
  {
   "cell_type": "code",
   "execution_count": 4,
   "metadata": {},
   "outputs": [
    {
     "name": "stdout",
     "output_type": "stream",
     "text": [
      "ID: example1\n",
      "Name: example1\n",
      "Description: example1 this is simple example 1\n",
      "Number of features: 0\n",
      "Seq('THIS-IS-SEQUENCE-4')\n"
     ]
    }
   ],
   "source": [
    "records = list(SeqIO.parse(\"example2.fa\", \"fasta\"))\n",
    "\n",
    "# to access the 1st SeqRecord in records:\n",
    "print(records[0])"
   ]
  },
  {
   "cell_type": "code",
   "execution_count": 5,
   "metadata": {},
   "outputs": [
    {
     "name": "stdout",
     "output_type": "stream",
     "text": [
      "THIS-IS-SEQUENCE-4\n",
      "\n",
      "THIS-IS-SEQUENCE-1\n",
      "\n",
      "THIS-IS-SEQUENCE-3\n",
      "\n",
      "SOMETHING-IS-WRONG\n",
      "\n",
      "THIS-IS-SEQUENCE-2\n",
      "\n",
      "THIS-IS-SEQUENCE-1\n",
      "\n",
      "THIS-IS-SEQUENCE-6\n",
      "\n"
     ]
    }
   ],
   "source": [
    "# to access all of the sequences of the document:\n",
    "for rec in records:\n",
    "    print(rec.seq, end= \"\\n\\n\")"
   ]
  },
  {
   "cell_type": "markdown",
   "metadata": {},
   "source": [
    "### 3.  Modifying data\n",
    "\n",
    "In the previous section, we demonstrated how to extract data from a `SeqRecord`. Once we have obtain the record, we can alter this data. \n",
    "\n",
    "1. The attributes of a SeqRecord can be modified directly:\n",
    "```python\n",
    "from Bio import SeqIO\n",
    "record = SeqIO.parse(\"example1.fa\", \"fasta\") \n",
    "record.id = \"Gattaca\"\n",
    "```\n",
    "\n",
    "\n"
   ]
  },
  {
   "cell_type": "code",
   "execution_count": 6,
   "metadata": {},
   "outputs": [
    {
     "name": "stdout",
     "output_type": "stream",
     "text": [
      "current Name is: example0\n",
      "\n",
      "changed Name is: Gattaca\n",
      "\n"
     ]
    }
   ],
   "source": [
    "print(\"current Name is:\", record.name, end = \"\\n\\n\")\n",
    "record.name = \"Gattaca\" #change name\n",
    "print(\"changed Name is:\", record.name, end = \"\\n\\n\")\n",
    "\n",
    "#print(record) # check all the attribute's content\n",
    "record.name = \"example0\" #change name back"
   ]
  },
  {
   "cell_type": "code",
   "execution_count": 7,
   "metadata": {},
   "outputs": [
    {
     "ename": "TypeError",
     "evalue": "'Seq' object does not support item assignment",
     "output_type": "error",
     "traceback": [
      "\u001b[0;31m---------------------------------------------------------------------------\u001b[0m",
      "\u001b[0;31mTypeError\u001b[0m                                 Traceback (most recent call last)",
      "\u001b[0;32m<ipython-input-7-7e9583a56ac3>\u001b[0m in \u001b[0;36m<module>\u001b[0;34m\u001b[0m\n\u001b[1;32m      1\u001b[0m \u001b[0;31m# check what happens we try to alter the sequence's content\u001b[0m\u001b[0;34m\u001b[0m\u001b[0;34m\u001b[0m\u001b[0;34m\u001b[0m\u001b[0m\n\u001b[0;32m----> 2\u001b[0;31m \u001b[0mrecord\u001b[0m\u001b[0;34m.\u001b[0m\u001b[0mseq\u001b[0m\u001b[0;34m[\u001b[0m\u001b[0;36m3\u001b[0m\u001b[0;34m]\u001b[0m \u001b[0;34m=\u001b[0m \u001b[0;34m\"A\"\u001b[0m\u001b[0;34m\u001b[0m\u001b[0;34m\u001b[0m\u001b[0m\n\u001b[0m",
      "\u001b[0;31mTypeError\u001b[0m: 'Seq' object does not support item assignment"
     ]
    }
   ],
   "source": [
    "# check what happens we try to alter the sequence's content\n",
    "record.seq[3] = \"A\" "
   ]
  },
  {
   "cell_type": "markdown",
   "metadata": {},
   "source": [
    "2. Transform them into a `MutableSeq`object.\n",
    "\n",
    "In order to be able to only modify a specific position of a sequence we could turn them into a Python `list` then alter the postion and then use `.join()`to reassign the `.seq` content of record:\n"
   ]
  },
  {
   "cell_type": "code",
   "execution_count": 8,
   "metadata": {},
   "outputs": [
    {
     "name": "stdout",
     "output_type": "stream",
     "text": [
      "['G', 'A', 'T', 'T', 'A', 'C', 'A', '-', 'A']\n",
      "['G', 'A', 'T', 'T', 'A', 'C', 'A', 'A', 'A']\n",
      "\n",
      "ID: example0\n",
      "Name: example0\n",
      "Description: example0 this is a simple example\n",
      "Number of features: 0\n",
      "'GATTACAAA'\n"
     ]
    }
   ],
   "source": [
    "recordlist = list(record.seq)\n",
    "print(recordlist) # original\n",
    "recordlist[-2] = \"A\"\n",
    "print(recordlist, end=\"\\n\\n\") # modified\n",
    "\n",
    "record.seq = \"\".join(recordlist)\n",
    "print(record)"
   ]
  },
  {
   "cell_type": "markdown",
   "metadata": {},
   "source": [
    "Alternatively, we can transform it into a `MutableSeq`object change it and use `.toseq()` when reassigning the variable to `record.seq`. To do this we need to import it\n",
    "using `from Bio.Seq import MutableSeq`."
   ]
  },
  {
   "cell_type": "code",
   "execution_count": 9,
   "metadata": {},
   "outputs": [
    {
     "name": "stdout",
     "output_type": "stream",
     "text": [
      "ID: example0\n",
      "Name: example0\n",
      "Description: example0 this is a simple example\n",
      "Number of features: 0\n",
      "Seq('GATTACA-A')\n"
     ]
    }
   ],
   "source": [
    "from Bio.Seq import MutableSeq\n",
    "\n",
    "mut_seq = MutableSeq(record.seq) # get mutable version\n",
    "\n",
    "mut_seq[-2] = \"-\" # modify the sequence\n",
    "\n",
    "record.seq = mut_seq.toseq()# back to a Seq object and reasign variable\n",
    "\n",
    "print(record) # check all the attribute's content"
   ]
  },
  {
   "cell_type": "markdown",
   "metadata": {},
   "source": [
    "### <span style='color: blue'>Activity 2.  Modify a `Bio.Record` object</span>\n",
    "\n",
    "1. Change the `.seq` sequence of the `SeqRecord` in the `record` variable containing the information in the file `example1.fa`  to be _\"THIS-IS-SEQUENCE-0\"_.   \n"
   ]
  },
  {
   "cell_type": "code",
   "execution_count": 10,
   "metadata": {},
   "outputs": [
    {
     "name": "stdout",
     "output_type": "stream",
     "text": [
      "ID: example0\n",
      "Name: example0\n",
      "Description: example0 this is a simple example\n",
      "Number of features: 0\n",
      "Seq('THIS-IS-SEQUENCE-0')\n"
     ]
    }
   ],
   "source": [
    "#solution\n",
    "record.seq = Seq(\"\".join([...]))\n",
    "print(record)"
   ]
  },
  {
   "cell_type": "markdown",
   "metadata": {},
   "source": [
    "2. Do the same for the sequence of As you have seen the `example2.fa` file contains 7 records. The sequences should follow the pattern _\"THIS-IS-SEQUENCE-#\"_ (where \"#\" is 1, 2 and 3 respectively). Now change the `.seq` of the records 4 to 7 to follow the same pattern.     \n"
   ]
  },
  {
   "cell_type": "code",
   "execution_count": 11,
   "metadata": {},
   "outputs": [],
   "source": [
    "#[print(rec, end= \"\\n\\n\") for rec in records]"
   ]
  },
  {
   "cell_type": "code",
   "execution_count": 16,
   "metadata": {},
   "outputs": [
    {
     "name": "stdout",
     "output_type": "stream",
     "text": [
      "ID: example1\n",
      "Name: example1\n",
      "Description: example1 this is simple example 1\n",
      "Number of features: 0\n",
      "Seq('THIS-IS-SEQUENCE-4')\n",
      "...\n",
      "ID: example4\n",
      "Name: example4\n",
      "Description: example4 this is simple example 4\n",
      "Number of features: 0\n",
      "Seq('THIS-IS-SEQUENCE-4')\n",
      "...\n",
      "ID: example7\n",
      "Name: example7\n",
      "Description: example7 this is simple example 7\n",
      "Number of features: 0\n",
      "Seq('THIS-IS-SEQUENCE-7')\n",
      "...\n"
     ]
    },
    {
     "data": {
      "text/plain": [
       "[None, None, None]"
      ]
     },
     "execution_count": 16,
     "metadata": {},
     "output_type": "execute_result"
    }
   ],
   "source": [
    "#solution\n",
    "\n",
    "for rec in ...:\n",
    "    rec.seq = Seq(\"\".join([...]))\n",
    "\n",
    "[print(rec, end= \"\\n\"+\"...\"+\"\\n\") for rec in records[0::3]]"
   ]
  },
  {
   "cell_type": "markdown",
   "metadata": {},
   "source": [
    "------\n",
    "\n",
    "## Exporting local files\n",
    "\n",
    "\n",
    "You can use the `SeqIO.write()` function to output sequences files. This\n",
    "function takes three arguments:\n",
    "- A `SeqRecord` object or a list of them.\n",
    "- A handle or filename to write to.\n",
    "- The sequence format (e.g. _\"fasta\"_).\n",
    "\n",
    "The following shows how this would work (see more on the\n",
    "[activities][linkactivity]. In this case we are storing the list of records\n",
    "_records_ into the output file _output_file.fa_ which will have a _fasta_ \n",
    "format.\n",
    "\n",
    "```python\n",
    "SeqIO.write(records, \"output.fa\" , \"fasta\")\n",
    "```\n",
    "\n",
    "This is the simple, straight-forward way, alternatively we can use \n",
    "`with open()`. The context manager (with statement) ensures that the file is properly closed after writing. \n",
    "\n",
    "```python\n",
    "with open(\"output.fa\", \"w\") as file_out:\n",
    "    SeqIO.write(records, file_out, \"fasta\")\n",
    "```\n",
    "\n",
    "Both approaches achieve the same result, but using `with open()`\n",
    "will allow you to perform additional operations. For example if the output file\n",
    "isn't empty and your goal is to append the _records_ at the end of the file, \n",
    "you can easily achieve this by replacing the \"w\" in `open` by \"a\" (for append\n",
    "mode). \n",
    "\n",
    "\n",
    "```python\n",
    "with open(\"output.fa\", \"a\") as file_out:\n",
    "    SeqIO.write(records, file_out, \"fasta\")\n",
    "\n",
    "```"
   ]
  },
  {
   "cell_type": "markdown",
   "metadata": {},
   "source": [
    "\n",
    "### <span style='color: blue'>Activity 3. Exporting a file</span>\n",
    "\n",
    "1. Using `SeqIO.write()` to create a new `fasta` file that contains the information of the modified `record` variable.  <span style='color: green'> Name the file *output_file.fa*</span>"
   ]
  },
  {
   "cell_type": "code",
   "execution_count": 13,
   "metadata": {},
   "outputs": [
    {
     "data": {
      "text/plain": [
       "1"
      ]
     },
     "execution_count": 13,
     "metadata": {},
     "output_type": "execute_result"
    }
   ],
   "source": [
    "\n",
    "SeqIO.write(...) # the output is the number records saved\n"
   ]
  },
  {
   "cell_type": "markdown",
   "metadata": {},
   "source": [
    "\n",
    "2. Using `SeqIO.write()` to write at the end of the file, the content of the modified records of `example2.fa` stored in the `records` variable. Check your local directory to observe the resulting file "
   ]
  },
  {
   "cell_type": "code",
   "execution_count": 14,
   "metadata": {},
   "outputs": [],
   "source": [
    "with open(...) as file_out:\n",
    "    SeqIO.write(...)"
   ]
  },
  {
   "cell_type": "markdown",
   "metadata": {},
   "source": [
    "#### Extra\n",
    "\n",
    "You can use existent files to create new files of different formats with the \n",
    "same content. You could read the file, using the `Bio.SeqIO.parse()` and pass\n",
    "the `SeqRecord` iterator to the `Bio.SeqIO.write()` and save it using a \n",
    "different file format. However, `SeqIO` offers the `SeqIO.convert` function\n",
    "which takes four arguments and does the this concisely. \n",
    "\n",
    "For example to turn a _GenBank_ file into a _Fasta_  file we can:\n",
    "\n",
    "```python\n",
    "from Bio import SeqIO\n",
    "count = SeqIO.convert(\"output_file.fa\", \"fasta\", \"converted.txt\", \"tab\")\n",
    "```\n",
    "\n"
   ]
  }
 ],
 "metadata": {
  "kernelspec": {
   "display_name": "Python 3",
   "language": "python",
   "name": "python3"
  },
  "language_info": {
   "codemirror_mode": {
    "name": "ipython",
    "version": 3
   },
   "file_extension": ".py",
   "mimetype": "text/x-python",
   "name": "python",
   "nbconvert_exporter": "python",
   "pygments_lexer": "ipython3",
   "version": "3.8.3"
  }
 },
 "nbformat": 4,
 "nbformat_minor": 4
}
