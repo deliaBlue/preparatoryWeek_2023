{
 "cells": [
  {
   "cell_type": "markdown",
   "metadata": {},
   "source": [
    "# Introduction to Biopython  1"
   ]
  },
  {
   "cell_type": "markdown",
   "metadata": {},
   "source": [
    "*Biopython* allows to ease the process of working with bioinformatic-related files and operations. This way, using *Biopython*, you will be able to use few functions to what otherwise, would have taken many more lines of code. In this document you will have an introduction to to *Biopython*'s basic classes and some of other resources along with a set of activities to help you get familiar with working with these tools.\n",
    " "
   ]
  },
  {
   "cell_type": "markdown",
   "metadata": {},
   "source": [
    "### Key concepts\n",
    "\n",
    " - **SeqRecord object:** The `SeqRecord` object used in _Biopython_ to hold a sequence, as a `Seq` object, with identifiers `id` and `name`, `description` and optionally `annotation` and other sub-features. \n",
    "  <details>\n",
    "    <summary>\n",
    "        <span style=\"color: purple\">Click here to display more information</span>\n",
    "    </summary>\n",
    "    <p>The <code>SeqRecord</code> object used in <em>Biopython</em> to hold a sequence, as a <a href=\"#Seq\"><code>Seq</code></a> object, with identifiers <code>id</code> and <code>name</code>, description and optionally annotation and sub-features. The following table contains the <code>SeqRecord</code> attributes and the information they hold.</p>\n",
    "\n",
    "    <blockquote>\n",
    "            <table>\n",
    "                <tr>\n",
    "                   <td>.seq</td>\n",
    "                   <td>Seq object containing a sequence</td>\n",
    "                </tr>\n",
    "                <tr>\n",
    "                   <td>.id</td>\n",
    "                   <td>Primary ID used to identify the sequence in a string format</td>\n",
    "                </tr>\n",
    "                <tr>\n",
    "                   <td>.name</td>\n",
    "                   <td> In some cases this will be the same as the accession number, but it could also be a clone name in a string a string format</td>\n",
    "                </tr>\n",
    "                <tr>\n",
    "                   <td>.description</td>\n",
    "                   <td>Brief description or expressive name for the sequence</td>\n",
    "                </tr>\n",
    "                <tr>\n",
    "                   <td>.letter_annotations</td>\n",
    "                   <td>\n",
    "                   Dictionary of additional information about the letters in the sequence.\n",
    "                   The keys are the name of the information (e.g. \"phread_quality\") and the value (as a list, tuple, string,...) has the same length as the\n",
    "                   sequence itself (e.g. [40, 40, 38, 30, ...]).\n",
    "                   </td>\n",
    "                </tr>\n",
    "                <tr>\n",
    "                   <td>.annotations</td>\n",
    "                   <td>\n",
    "                    A dictionary of additional information about the sequence. The keys\n",
    "                    are the name of the information, and the information is contained in\n",
    "                    the value.\n",
    "                   </td>\n",
    "                </tr>\n",
    "                 <tr>\n",
    "                   <td>.features</td>\n",
    "                   <td>\n",
    "                   A list of SeqFeature objects with more structured information about the\n",
    "                   features on a sequence (e.g. position of genes on a genome, or domains\n",
    "                   on a protein sequence). See more on section 4.3 of the [documentation][docu].\n",
    "                   </td>\n",
    "                </tr>\n",
    "                <tr>\n",
    "                   <td>.dbxrefs</td>\n",
    "                   <td>A list of database cross-references as strings (e.g. ['Project:58037']).</td>\n",
    "                </tr>\n",
    "             </table></blockquote>\n",
    "    \n",
    "    We will mainly be using the first 4 attributes. For example, the `example1.fa` file contains only two lines:\n",
    "                \n",
    "    >example1 this is a simple example<br>\n",
    "    GATTACA-A\n",
    "    \n",
    "</details>\n",
    "\n",
    "\n",
    "\n",
    " - **Seq object:** The Seq attribute in the `SeqRecord` object is the minimum information needed to create an instance of this class. It consist on a sequence in the form of a `Python` `string` which offers many of the same methods along with additional ones. \n",
    "<details>\n",
    "    <summary><span style=\"color: purple\">Click here to display more information</span></summary>\n",
    "    <p>The <code>Seq</code> attribute is the minimum information needed to create an instance of a <code>SeqRecord</code>. Like <code>SeqRecord</code>, the <code>Seq</code> object has its own set of attributes and its own module <code>Bio.Seq</code> which can be imported using <code>from Bio.Seq import Seq</code>.</p>\n",
    "    <p>You need to keep in mind that like <code>Python</code> strings, <code>Seq</code> objects do not support item assignments and in order to modify them, we need to transform them into a <code>MutableSeq</code> object. To do this we need to import it using <code>from Bio.Seq import MutableSeq</code> and transform the <code>Seq</code> sequence through reassignment (e.g. <code>sequence = MutableSeq(sequence)</code>).</p>\n",
    "\n",
    "</details>\n",
    "\n",
    "\n",
    " \n",
    "Both of these objects are available in  their own module and can be imported using `from Bio.SeqRecord import SeqRecord` and `from Bio.Seq import Seq`.\n"
   ]
  },
  {
   "cell_type": "markdown",
   "metadata": {},
   "source": [
    "------\n",
    "\n",
    "### 1. Working with ` Bio.Seq` objects\n",
    "\n",
    "As previously stated, the `Seq` object consist on a sequence in the form of a `Python` `string` which offers many of the same methods they have (e.g. `len()` and `count()`) alongs with additional methods like the `translate()`, `complement()` and `reverse_complement()`. The following command allows you to see an easy example showing how to create a `Seq` object instance and all the available attributes and methods available. You can find more information on the `Seq` methods under the section 3.1 to 3.8 of the [Biopython Documentation](http://biopython.org/DIST/docs/tutorial/Tutorial.pdf)."
   ]
  },
  {
   "cell_type": "code",
   "execution_count": 1,
   "metadata": {},
   "outputs": [
    {
     "name": "stdout",
     "output_type": "stream",
     "text": [
      "__add__\n",
      "__class__\n",
      "__contains__\n",
      "__delattr__\n",
      "__dict__\n",
      "__dir__\n",
      "__doc__\n",
      "__eq__\n",
      "__format__\n",
      "__ge__\n",
      "__getattribute__\n",
      "__getitem__\n",
      "__gt__\n",
      "__hash__\n",
      "__imul__\n",
      "__init__\n",
      "__init_subclass__\n",
      "__le__\n",
      "__len__\n",
      "__lt__\n",
      "__module__\n",
      "__mul__\n",
      "__ne__\n",
      "__new__\n",
      "__radd__\n",
      "__reduce__\n",
      "__reduce_ex__\n",
      "__repr__\n",
      "__rmul__\n",
      "__setattr__\n",
      "__sizeof__\n",
      "__str__\n",
      "__subclasshook__\n",
      "__weakref__\n",
      "_data\n",
      "back_transcribe\n",
      "complement\n",
      "complement_rna\n",
      "count\n",
      "count_overlap\n",
      "encode\n",
      "endswith\n",
      "find\n",
      "index\n",
      "join\n",
      "lower\n",
      "lstrip\n",
      "reverse_complement\n",
      "reverse_complement_rna\n",
      "rfind\n",
      "rindex\n",
      "rsplit\n",
      "rstrip\n",
      "split\n",
      "startswith\n",
      "strip\n",
      "tomutable\n",
      "transcribe\n",
      "translate\n",
      "ungap\n",
      "upper\n"
     ]
    },
    {
     "data": {
      "text/plain": [
       "[None,\n",
       " None,\n",
       " None,\n",
       " None,\n",
       " None,\n",
       " None,\n",
       " None,\n",
       " None,\n",
       " None,\n",
       " None,\n",
       " None,\n",
       " None,\n",
       " None,\n",
       " None,\n",
       " None,\n",
       " None,\n",
       " None,\n",
       " None,\n",
       " None,\n",
       " None,\n",
       " None,\n",
       " None,\n",
       " None,\n",
       " None,\n",
       " None,\n",
       " None,\n",
       " None,\n",
       " None,\n",
       " None,\n",
       " None,\n",
       " None,\n",
       " None,\n",
       " None,\n",
       " None,\n",
       " None,\n",
       " None,\n",
       " None,\n",
       " None,\n",
       " None,\n",
       " None,\n",
       " None,\n",
       " None,\n",
       " None,\n",
       " None,\n",
       " None,\n",
       " None,\n",
       " None,\n",
       " None,\n",
       " None,\n",
       " None,\n",
       " None,\n",
       " None,\n",
       " None,\n",
       " None,\n",
       " None,\n",
       " None,\n",
       " None,\n",
       " None,\n",
       " None,\n",
       " None,\n",
       " None]"
      ]
     },
     "execution_count": 1,
     "metadata": {},
     "output_type": "execute_result"
    }
   ],
   "source": [
    "from Bio.Seq import Seq\n",
    "\n",
    "seq1 = Seq(\"GATTACA\")\n",
    "\n",
    "[print(att) for att in   dir(seq1)] "
   ]
  },
  {
   "cell_type": "markdown",
   "metadata": {},
   "source": [
    "Additionaly you can find the definition along with the arguments and examples by using help():"
   ]
  },
  {
   "cell_type": "code",
   "execution_count": 2,
   "metadata": {},
   "outputs": [],
   "source": [
    "## help(Seq.translate)\n",
    "# help(Seq.find)"
   ]
  },
  {
   "cell_type": "markdown",
   "metadata": {},
   "source": [
    "You can see below how some of these methods are implemented.  When executing the chunk, you will get a **warning** notifying you that the **string is not multiple of 3** and suggesting to either trim the sequence or adding trailing N before executing the `translate()` method. This is because otherwise, the **residual bases won't be accounted for** in this case,the obtained amino acids are DY since and residual A isn't accounted for. "
   ]
  },
  {
   "cell_type": "code",
   "execution_count": 3,
   "metadata": {},
   "outputs": [
    {
     "name": "stdout",
     "output_type": "stream",
     "text": [
      "GATTACA\n",
      "There are 3 Adenines\n",
      "The sequence is  7 bp long\n",
      "TGTAATC\n",
      "CTAATGT\n",
      "GAUUACA\n",
      "DY\n"
     ]
    },
    {
     "name": "stderr",
     "output_type": "stream",
     "text": [
      "/home/alba/anaconda3/lib/python3.8/site-packages/Bio/Seq.py:2334: BiopythonWarning: Partial codon, len(sequence) not a multiple of three. Explicitly trim the sequence or add trailing N before translation. This may become an error in future.\n",
      "  warnings.warn(\n"
     ]
    }
   ],
   "source": [
    "print(seq1)\n",
    "print(\"There are\",seq1.count(\"A\"), \"Adenines\")\n",
    "print(\"The sequence is \",len(seq1), \"bp long\")\n",
    "print(seq1.reverse_complement())\n",
    "print(seq1.complement())\n",
    "print(seq1.transcribe())\n",
    "print(seq1.translate())"
   ]
  },
  {
   "cell_type": "markdown",
   "metadata": {},
   "source": [
    "### <span style='color: blue'>Activity 1. PSUDOCODE EXERCISES</span>\n",
    "    \n",
    "\n",
    "Previously this week, we have introduced you to the following exercises. Our goal now is for you to use the available methods of the `Seq` objects to see first hand the advantages of **using _Biopython's Seq_** methods whenever you can. You can use the following `sequence` variables to test you codes, when it is the case, the best input will be specified. "
   ]
  },
  {
   "cell_type": "code",
   "execution_count": 4,
   "metadata": {},
   "outputs": [],
   "source": [
    "seq2 = Seq(\"ATG-GATTACA-TGATTTT\")\n",
    "seq3 = Seq(\"ATGGCCGGGATTTGCTAG\")\n",
    "seq4 = Seq(\"STRESSED\")"
   ]
  },
  {
   "cell_type": "markdown",
   "metadata": {},
   "source": [
    "------\n",
    "\n",
    "<span style='color: blue'> **Problem 1: DNA to RNA**: </span>\n",
    "    \n",
    "Write a code that given a DNA sequence in the form of a `Seq` object, outputs its RNA version. **Ignore start and stop codons**, simply exchange _Thymines_(T) by _Uracils_(U).\n",
    "\n",
    "<blockquote>\n",
    "Example: \n",
    "\n",
    "- Input: _GATTACA_\n",
    "- Output: _GAUUACA_\n",
    "</blockquote>"
   ]
  },
  {
   "cell_type": "code",
   "execution_count": 15,
   "metadata": {},
   "outputs": [
    {
     "name": "stdout",
     "output_type": "stream",
     "text": [
      "GAUUACA\n",
      "AUG-GAUUACA-UGAUUUU\n"
     ]
    }
   ],
   "source": [
    "print(seq1. ...)\n",
    "print(seq2. ...)"
   ]
  },
  {
   "cell_type": "markdown",
   "metadata": {},
   "source": [
    "---------\n",
    "\n",
    "<span style='color: blue'> **Problem 2: Find coding region**</span>\n",
    "\n",
    "The reading frame starts whenever _ATG_ is encountered and it stops whenever _TAA, TAG, or TGA_ is encountered. Write code that given a DNA strand, finds the coding region not including the start and end codons. Note that if there is not start or no stop codon the function should return nothing (empty string). <span style='color: green'>Use seq2 and seq3</span>\n",
    "\n",
    "<blockquote>\n",
    "Example: \n",
    "\n",
    "-  Input: ATG-GATTACA-TGATTT\n",
    "-  Output: -GATTACA-\n",
    "</blockquote>"
   ]
  },
  {
   "cell_type": "code",
   "execution_count": 6,
   "metadata": {},
   "outputs": [
    {
     "name": "stdout",
     "output_type": "stream",
     "text": [
      "-GATTACA-\n"
     ]
    }
   ],
   "source": [
    "seq = seq2\n",
    "\n",
    "start = ... # use find to get start pos \n",
    "end = ... # if no stop codon out will be empty\n",
    "\n",
    "for # for the rest of the sequence in steps of 3\n",
    "    \n",
    "    if  # find a stop\n",
    "        end = ...\n",
    "        break\n",
    "\n",
    "out = seq[...] # resulting string excluding start and stop codons\n",
    "\n",
    "print(out)"
   ]
  },
  {
   "cell_type": "markdown",
   "metadata": {},
   "source": [
    "------\n",
    "\n",
    "<span style='color: blue'> **Problem 3: GC content**</span>\n",
    "\n",
    "The GC content is the percentage of _guanine_ (G) and _cytosine_ (C) nucleotides in a DNA or RNA molecule. Write a CODE than given a DNA or RNA strand it outputs its GC content **in percentage and one rounded decimal**.\n",
    "\n",
    "<blockquote>\n",
    "Example:\n",
    "\n",
    "- Input: ATGGATTACATGATTT\n",
    "- Output: _25.0%_\n",
    "</blockquote>\n",
    "\n"
   ]
  },
  {
   "cell_type": "code",
   "execution_count": 8,
   "metadata": {},
   "outputs": [
    {
     "name": "stdout",
     "output_type": "stream",
     "text": [
      "21.1%\n"
     ]
    }
   ],
   "source": [
    "seq = seq2\n",
    "\n",
    "GC = ...\n",
    "\n",
    "print(round(GC, 1), \"%\", sep =\"\")"
   ]
  },
  {
   "cell_type": "markdown",
   "metadata": {},
   "source": [
    "\n",
    "<span style='color: green'> NOTE: You were supposed to solve this problem using `count()`, however, just so you know the _GC Content_ can also be computed by importing the module `GC` module from `Bio.SeqUtils` this way:<span> \n",
    "\n",
    "```python\n",
    "from Bio.SeqUtils import GC\n",
    "\n",
    "GC = GC(seq2)\n",
    "print(GC)\n",
    "```\n",
    "\n",
    "-----"
   ]
  },
  {
   "cell_type": "markdown",
   "metadata": {},
   "source": [
    "<span style='color: blue'> **Problem 4: Flip a string**<span>\n",
    "\n",
    "We read words left to right. Write a code that given a word it flips it. It should output the word read from right to left.  <span style='color: green'> Use seq4 as a recomendation</span>\n",
    "\n",
    "<blockquote>\n",
    "    Example:\n",
    "\n",
    "- Input: _STRESSED_\n",
    "- Output: _DESSERTS_\n",
    "</blockquote>"
   ]
  },
  {
   "cell_type": "code",
   "execution_count": 9,
   "metadata": {},
   "outputs": [
    {
     "name": "stdout",
     "output_type": "stream",
     "text": [
      "DESSERTS\n"
     ]
    }
   ],
   "source": [
    "seq = seq4\n",
    "\n",
    "revcompl = ...\n",
    "\n",
    "comp =  ...\n",
    "\n",
    "print(out)"
   ]
  },
  {
   "cell_type": "markdown",
   "metadata": {},
   "source": [
    "-----\n",
    "\n",
    "### Translation tables\n",
    "\n",
    "`Seq` objects contain the translate() method which performs translation using an internal codon table objects derived from NCBI. We will only be importing the Standard table but there are many more, check the  [NCBI site for more information](#https://www.ncbi.nlm.nih.gov/Taxonomy/Utils/wprintgc.cgi).\n",
    "We can import codon tables using `from Bio.Data import CodonTable`. "
   ]
  },
  {
   "cell_type": "code",
   "execution_count": 10,
   "metadata": {},
   "outputs": [
    {
     "name": "stdout",
     "output_type": "stream",
     "text": [
      "Table 1 Standard, SGC0\n",
      "\n",
      "  |  T      |  C      |  A      |  G      |\n",
      "--+---------+---------+---------+---------+--\n",
      "T | TTT F   | TCT S   | TAT Y   | TGT C   | T\n",
      "T | TTC F   | TCC S   | TAC Y   | TGC C   | C\n",
      "T | TTA L   | TCA S   | TAA Stop| TGA Stop| A\n",
      "T | TTG L(s)| TCG S   | TAG Stop| TGG W   | G\n",
      "--+---------+---------+---------+---------+--\n",
      "C | CTT L   | CCT P   | CAT H   | CGT R   | T\n",
      "C | CTC L   | CCC P   | CAC H   | CGC R   | C\n",
      "C | CTA L   | CCA P   | CAA Q   | CGA R   | A\n",
      "C | CTG L(s)| CCG P   | CAG Q   | CGG R   | G\n",
      "--+---------+---------+---------+---------+--\n",
      "A | ATT I   | ACT T   | AAT N   | AGT S   | T\n",
      "A | ATC I   | ACC T   | AAC N   | AGC S   | C\n",
      "A | ATA I   | ACA T   | AAA K   | AGA R   | A\n",
      "A | ATG M(s)| ACG T   | AAG K   | AGG R   | G\n",
      "--+---------+---------+---------+---------+--\n",
      "G | GTT V   | GCT A   | GAT D   | GGT G   | T\n",
      "G | GTC V   | GCC A   | GAC D   | GGC G   | C\n",
      "G | GTA V   | GCA A   | GAA E   | GGA G   | A\n",
      "G | GTG V   | GCG A   | GAG E   | GGG G   | G\n",
      "--+---------+---------+---------+---------+--\n",
      "\n",
      "M\n",
      "['TTG', 'CTG', 'ATG']\n",
      "['TAA', 'TAG', 'TGA']\n"
     ]
    }
   ],
   "source": [
    "from Bio.Data import CodonTable\n",
    "\n",
    "codons = CodonTable.unambiguous_dna_by_id[1]\n",
    "print(codons, end = \"\\n\\n\")\n",
    "print(codons.forward_table[\"ATG\"])\n",
    "print(codons.start_codons) #check that the standard code currently allows initiation\n",
    "#                           from TTG and CTG in addition to ATG.\n",
    "print(codons.stop_codons)"
   ]
  },
  {
   "cell_type": "markdown",
   "metadata": {},
   "source": [
    "#### Extra Activity\n",
    "\n",
    "Use the `codons` variable to create a code that translates the sequence _\"ATGGCCGGGATTTGCTAG\"_. Check if it is correct by running: `Seq.translate(Seq(\"ATGGCCGGGATTTGCTAG\"))`"
   ]
  },
  {
   "cell_type": "code",
   "execution_count": 11,
   "metadata": {},
   "outputs": [
    {
     "name": "stdout",
     "output_type": "stream",
     "text": [
      "MAGIC\n",
      "MAGIC*\n"
     ]
    }
   ],
   "source": [
    "seq = Seq(\"ATGGCCGGGATTTGCTAG\")\n",
    "translated_seq = []\n",
    "\n",
    "for pos  in range(0, len(seq), 3): # not exploring differnent reading frames\n",
    "    \n",
    "    codon = str(seq[...]) \n",
    "    \n",
    "    if  ... : # check for start\n",
    "        inside = ... # flag\n",
    "    \n",
    "    if  # inside coding region\n",
    "        \n",
    "        if .... : #check for stop\n",
    "            break \n",
    "        translated_seq.append(...) #add current codon's aa\n",
    "        \n",
    "        \n",
    "print(\"\".join(translated_seq))\n",
    "print(Seq.translate(seq))"
   ]
  },
  {
   "cell_type": "markdown",
   "metadata": {},
   "source": [
    "Additionally, we can also use `from Bio.Data import IUPACData` to import a dictionary to change the symbols of the amino acids from one to three (e.g. \"G\" to \"Gly\")."
   ]
  }
 ],
 "metadata": {
  "kernelspec": {
   "display_name": "Python 3",
   "language": "python",
   "name": "python3"
  },
  "language_info": {
   "codemirror_mode": {
    "name": "ipython",
    "version": 3
   },
   "file_extension": ".py",
   "mimetype": "text/x-python",
   "name": "python",
   "nbconvert_exporter": "python",
   "pygments_lexer": "ipython3",
   "version": "3.8.3"
  }
 },
 "nbformat": 4,
 "nbformat_minor": 4
}
